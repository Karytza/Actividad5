{
 "cells": [
  {
   "cell_type": "code",
   "execution_count": 1,
   "metadata": {},
   "outputs": [],
   "source": [
    "# Cargar a la memoria de trabajo las bibliotecas: Pandas (manejo de datos, \n",
    "# Numpy (numerical python) y la biblioteca de gráficas Matplotlib\n",
    "# Se asignan nombres cortos.\n",
    "import pandas as pd\n",
    "import numpy as np\n",
    "import seaborn as sns\n",
    "import matplotlib.pyplot as plt\n",
    "#\n",
    "# Usar \"Shift+Enter\" para procesar la información de la celda\n",
    "#"
   ]
  },
  {
   "cell_type": "code",
   "execution_count": 2,
   "metadata": {},
   "outputs": [],
   "source": [
    "# Descarga los datos de una estación del Servicio Meteorológico Nacional\n",
    "# http://smn1.conagua.gob.mx/emas/\n",
    "# Lee un archivo de texto con la función Pandas \"read_csv\", con elementos separados por mas de \n",
    "# un espacio, brincándose 4 renglones del inicio (encabezados)\n",
    "df0 = pd.read_csv('alamos.txt', skiprows=20, sep='\\s+',header=None,names=[\"DD/MM/AAAA\",\"PRECIP\",\"EVAP\",\"TMAX\",\"TMIN\"])\n",
    "# \"Shift + Enter"
   ]
  },
  {
   "cell_type": "code",
   "execution_count": 3,
   "metadata": {},
   "outputs": [],
   "source": [
    "# Combinar las columnas \"DD/MM/AAAA\" con \"HH:MM\" y convertirla a variable de tiempo\n",
    "# Se crea una nueva columna \"Fecha\" al final con formato de tiempo.\n",
    "# Eliminamos las dos primeras columnas que ya no necesitaremos\n",
    "df0['FECHA'] = pd.to_datetime(df0.apply(lambda x: x['DD/MM/AAAA'], 1), dayfirst=True)\n",
    "df0 = df0.drop(['DD/MM/AAAA'], 1)"
   ]
  },
  {
   "cell_type": "code",
   "execution_count": 4,
   "metadata": {},
   "outputs": [
    {
     "data": {
      "text/html": [
       "<div>\n",
       "<style scoped>\n",
       "    .dataframe tbody tr th:only-of-type {\n",
       "        vertical-align: middle;\n",
       "    }\n",
       "\n",
       "    .dataframe tbody tr th {\n",
       "        vertical-align: top;\n",
       "    }\n",
       "\n",
       "    .dataframe thead th {\n",
       "        text-align: right;\n",
       "    }\n",
       "</style>\n",
       "<table border=\"1\" class=\"dataframe\">\n",
       "  <thead>\n",
       "    <tr style=\"text-align: right;\">\n",
       "      <th></th>\n",
       "      <th>PRECIP</th>\n",
       "      <th>EVAP</th>\n",
       "      <th>TMAX</th>\n",
       "      <th>TMIN</th>\n",
       "      <th>FECHA</th>\n",
       "    </tr>\n",
       "  </thead>\n",
       "  <tbody>\n",
       "    <tr>\n",
       "      <th>0</th>\n",
       "      <td>0.0</td>\n",
       "      <td>2.0</td>\n",
       "      <td>22.5</td>\n",
       "      <td>6.0</td>\n",
       "      <td>1961-01-01</td>\n",
       "    </tr>\n",
       "    <tr>\n",
       "      <th>1</th>\n",
       "      <td>0.0</td>\n",
       "      <td>1.1</td>\n",
       "      <td>25.0</td>\n",
       "      <td>9.0</td>\n",
       "      <td>1961-01-02</td>\n",
       "    </tr>\n",
       "    <tr>\n",
       "      <th>2</th>\n",
       "      <td>0.0</td>\n",
       "      <td>3.4</td>\n",
       "      <td>27.5</td>\n",
       "      <td>9.0</td>\n",
       "      <td>1961-01-03</td>\n",
       "    </tr>\n",
       "    <tr>\n",
       "      <th>3</th>\n",
       "      <td>0.0</td>\n",
       "      <td>2.4</td>\n",
       "      <td>27.5</td>\n",
       "      <td>11.0</td>\n",
       "      <td>1961-01-04</td>\n",
       "    </tr>\n",
       "    <tr>\n",
       "      <th>4</th>\n",
       "      <td>7.4</td>\n",
       "      <td>6.0</td>\n",
       "      <td>22.0</td>\n",
       "      <td>13.5</td>\n",
       "      <td>1961-01-05</td>\n",
       "    </tr>\n",
       "  </tbody>\n",
       "</table>\n",
       "</div>"
      ],
      "text/plain": [
       "   PRECIP  EVAP  TMAX  TMIN      FECHA\n",
       "0     0.0   2.0  22.5   6.0 1961-01-01\n",
       "1     0.0   1.1  25.0   9.0 1961-01-02\n",
       "2     0.0   3.4  27.5   9.0 1961-01-03\n",
       "3     0.0   2.4  27.5  11.0 1961-01-04\n",
       "4     7.4   6.0  22.0  13.5 1961-01-05"
      ]
     },
     "execution_count": 4,
     "metadata": {},
     "output_type": "execute_result"
    }
   ],
   "source": [
    "# Lee los primeros 5 renglones del archivo\n",
    "df0.head()\n",
    "# \"Shift+Enter\""
   ]
  },
  {
   "cell_type": "code",
   "execution_count": 5,
   "metadata": {},
   "outputs": [],
   "source": [
    "# Dar estructura de datos (DataFrame)\n",
    "df = pd.DataFrame(df0)"
   ]
  },
  {
   "cell_type": "code",
   "execution_count": 6,
   "metadata": {},
   "outputs": [
    {
     "data": {
      "text/plain": [
       "PRECIP           float64\n",
       "EVAP             float64\n",
       "TMAX             float64\n",
       "TMIN             float64\n",
       "FECHA     datetime64[ns]\n",
       "dtype: object"
      ]
     },
     "execution_count": 6,
     "metadata": {},
     "output_type": "execute_result"
    }
   ],
   "source": [
    "df.dtypes"
   ]
  },
  {
   "cell_type": "code",
   "execution_count": 7,
   "metadata": {},
   "outputs": [],
   "source": [
    "df0[\"MES\"]=df0[\"FECHA\"].dt.month"
   ]
  },
  {
   "cell_type": "code",
   "execution_count": 8,
   "metadata": {},
   "outputs": [],
   "source": [
    "df0[\"AÑO\"]=df0[\"FECHA\"].dt.year"
   ]
  },
  {
   "cell_type": "code",
   "execution_count": 9,
   "metadata": {},
   "outputs": [
    {
     "data": {
      "text/html": [
       "<div>\n",
       "<style scoped>\n",
       "    .dataframe tbody tr th:only-of-type {\n",
       "        vertical-align: middle;\n",
       "    }\n",
       "\n",
       "    .dataframe tbody tr th {\n",
       "        vertical-align: top;\n",
       "    }\n",
       "\n",
       "    .dataframe thead th {\n",
       "        text-align: right;\n",
       "    }\n",
       "</style>\n",
       "<table border=\"1\" class=\"dataframe\">\n",
       "  <thead>\n",
       "    <tr style=\"text-align: right;\">\n",
       "      <th></th>\n",
       "      <th>PRECIP</th>\n",
       "      <th>EVAP</th>\n",
       "      <th>TMAX</th>\n",
       "      <th>TMIN</th>\n",
       "      <th>FECHA</th>\n",
       "      <th>MES</th>\n",
       "      <th>AÑO</th>\n",
       "    </tr>\n",
       "  </thead>\n",
       "  <tbody>\n",
       "    <tr>\n",
       "      <th>0</th>\n",
       "      <td>0.0</td>\n",
       "      <td>2.0</td>\n",
       "      <td>22.5</td>\n",
       "      <td>6.0</td>\n",
       "      <td>1961-01-01</td>\n",
       "      <td>1</td>\n",
       "      <td>1961</td>\n",
       "    </tr>\n",
       "    <tr>\n",
       "      <th>1</th>\n",
       "      <td>0.0</td>\n",
       "      <td>1.1</td>\n",
       "      <td>25.0</td>\n",
       "      <td>9.0</td>\n",
       "      <td>1961-01-02</td>\n",
       "      <td>1</td>\n",
       "      <td>1961</td>\n",
       "    </tr>\n",
       "    <tr>\n",
       "      <th>2</th>\n",
       "      <td>0.0</td>\n",
       "      <td>3.4</td>\n",
       "      <td>27.5</td>\n",
       "      <td>9.0</td>\n",
       "      <td>1961-01-03</td>\n",
       "      <td>1</td>\n",
       "      <td>1961</td>\n",
       "    </tr>\n",
       "    <tr>\n",
       "      <th>3</th>\n",
       "      <td>0.0</td>\n",
       "      <td>2.4</td>\n",
       "      <td>27.5</td>\n",
       "      <td>11.0</td>\n",
       "      <td>1961-01-04</td>\n",
       "      <td>1</td>\n",
       "      <td>1961</td>\n",
       "    </tr>\n",
       "    <tr>\n",
       "      <th>4</th>\n",
       "      <td>7.4</td>\n",
       "      <td>6.0</td>\n",
       "      <td>22.0</td>\n",
       "      <td>13.5</td>\n",
       "      <td>1961-01-05</td>\n",
       "      <td>1</td>\n",
       "      <td>1961</td>\n",
       "    </tr>\n",
       "  </tbody>\n",
       "</table>\n",
       "</div>"
      ],
      "text/plain": [
       "   PRECIP  EVAP  TMAX  TMIN      FECHA  MES   AÑO\n",
       "0     0.0   2.0  22.5   6.0 1961-01-01    1  1961\n",
       "1     0.0   1.1  25.0   9.0 1961-01-02    1  1961\n",
       "2     0.0   3.4  27.5   9.0 1961-01-03    1  1961\n",
       "3     0.0   2.4  27.5  11.0 1961-01-04    1  1961\n",
       "4     7.4   6.0  22.0  13.5 1961-01-05    1  1961"
      ]
     },
     "execution_count": 9,
     "metadata": {},
     "output_type": "execute_result"
    }
   ],
   "source": [
    "df.head()"
   ]
  },
  {
   "cell_type": "code",
   "execution_count": 10,
   "metadata": {},
   "outputs": [],
   "source": [
    "pd.options.display.max_rows=1000"
   ]
  },
  {
   "cell_type": "code",
   "execution_count": 20,
   "metadata": {},
   "outputs": [
    {
     "name": "stdout",
     "output_type": "stream",
     "text": [
      "MES 1 805.8 mm\n",
      "MES 2 411.7 mm\n",
      "MES 3 391.7 mm\n",
      "MES 4 39.4 mm\n",
      "MES 5 89.0 mm\n",
      "MES 6 585.9 mm\n",
      "MES 7 4055.7 mm\n",
      "MES 8 4558.9 mm\n",
      "MES 9 1984.5 mm\n",
      "MES 10 1169.1 mm\n",
      "MES 11 577.8 mm\n",
      "MES 12 813.6 mm\n"
     ]
    }
   ],
   "source": [
    "#hacer for loop para que segun el mes nos de la suma \n",
    "for i in range(1,13):\n",
    "    PRECIP_MES= df.loc[df[\"MES\"]==i,\"PRECIP\"].sum()\n",
    "    print(\"MES\",i,np.round(PRECIP_MES,decimals=1),\"mm\")"
   ]
  },
  {
   "cell_type": "code",
   "execution_count": 21,
   "metadata": {},
   "outputs": [],
   "source": [
    "PRECIP_MES=(805.8,411.7,391.7,39.4,89.0,585.9,4055.7,4558.9,1984.5,1169.1,577.8,813.6)"
   ]
  },
  {
   "cell_type": "code",
   "execution_count": 22,
   "metadata": {},
   "outputs": [],
   "source": [
    "ind = np.arange(len(PRECIP_MES))  # the x locations for the groups\n",
    "width = 0.35  # the width of the bars"
   ]
  },
  {
   "cell_type": "code",
   "execution_count": 23,
   "metadata": {},
   "outputs": [
    {
     "data": {
      "image/png": "[encoded data removed]",
      "text/plain": [
       "<Figure size 432x288 with 1 Axes>"
      ]
     },
     "metadata": {
      "needs_background": "light"
     },
     "output_type": "display_data"
    }
   ],
   "source": [
    "fig, ax = plt.subplots()\n",
    "rects1 = ax.bar(ind - width, PRECIP_MES, width,\n",
    "                color='Purple', label='Precipitación')\n",
    "# Add some text for labels, title and custom x-axis tick labels, etc.\n",
    "ax.set_ylabel('Precipitación promedio (mm)')\n",
    "ax.set_title('Precipitación por mes')\n",
    "ax.set_xticks(ind)\n",
    "ax.set_xticklabels(('Ene', 'Feb', 'Mar', 'Abr', 'Jun','Jul','Ago','Sept','Oct','Nov'\n",
    "                   ,'Dic'))\n",
    "ax.legend()\n",
    "\n",
    "def autolabel(rects, xpos='center'):\n",
    "    \"\"\"\n",
    "    Attach a text label above each bar in *rects*, displaying its height.\n",
    "\n",
    "    *xpos* indicates which side to place the text w.r.t. the center of\n",
    "    the bar. It can be one of the following {'center', 'right', 'left'}.\n",
    "    \"\"\"\n",
    "\n",
    "    xpos = xpos.lower()  # normalize the case of the parameter\n",
    "    ha = {'center': 'center', 'right': 'left', 'left': 'right'}\n",
    "    offset = {'center': 0.5, 'right': 0.57, 'left': 0.43}  # x_txt = x + w*off\n",
    "\n",
    "    for rect in rects:\n",
    "        height = rect.get_height()\n",
    "        ax.text(rect.get_x() + rect.get_width()*offset[xpos], 1.01*height,\n",
    "                '{}'.format(height), ha=ha[xpos], va='bottom')\n",
    "\n",
    "\n",
    "autolabel(rects1, \"left\")\n",
    "\n",
    "\n",
    "plt.show()"
   ]
  },
  {
   "cell_type": "code",
   "execution_count": 24,
   "metadata": {},
   "outputs": [],
   "source": [
    "#Los meses más lluviosos son agosto y septiembre"
   ]
  },
  {
   "cell_type": "code",
   "execution_count": 25,
   "metadata": {},
   "outputs": [],
   "source": [
    "pd.options.display.max_rows=1000"
   ]
  },
  {
   "cell_type": "code",
   "execution_count": 36,
   "metadata": {},
   "outputs": [
    {
     "name": "stdout",
     "output_type": "stream",
     "text": [
      "MES 1 41.5 °C\n",
      "MES 2 44.0 °C\n",
      "MES 3 44.0 °C\n",
      "MES 4 43.0 °C\n",
      "MES 5 48.0 °C\n",
      "MES 6 49.5 °C\n",
      "MES 7 45.5 °C\n",
      "MES 8 44.0 °C\n",
      "MES 9 46.0 °C\n",
      "MES 10 43.0 °C\n",
      "MES 11 39.0 °C\n",
      "MES 12 39.0 °C\n"
     ]
    }
   ],
   "source": [
    "#hacer for loop para que segun el mes nos de la suma \n",
    "#Temperaturas MAXIMA por mes \n",
    "for i in range(1,13):\n",
    "    PRECIP_MES= df.loc[df[\"MES\"]==i,\"TMAX\"].max()\n",
    "    print(\"MES\",i,np.round(PRECIP_MES,decimals=1),\"°C\")"
   ]
  },
  {
   "cell_type": "code",
   "execution_count": 38,
   "metadata": {},
   "outputs": [],
   "source": [
    "TEMP_MAX=(41.5,44.0,44.0,43.0,48.0,49.5,45.5,44.0,46.0,43.0,39.0,39.0)"
   ]
  },
  {
   "cell_type": "code",
   "execution_count": 39,
   "metadata": {},
   "outputs": [],
   "source": [
    "ind = np.arange(len(TEMP_MAX))  # the x locations for the groups\n",
    "width = 0.35  # the width of the bars"
   ]
  },
  {
   "cell_type": "code",
   "execution_count": 109,
   "metadata": {},
   "outputs": [
    {
     "name": "stderr",
     "output_type": "stream",
     "text": [
      "No handles with labels found to put in legend.\n"
     ]
    },
    {
     "data": {
      "image/png": "[encoded data removed]",
      "text/plain": [
       "<Figure size 432x288 with 1 Axes>"
      ]
     },
     "metadata": {
      "needs_background": "light"
     },
     "output_type": "display_data"
    }
   ],
   "source": [
    "#5_TXx: La máxima mensual de la temperatura máxima, max(Tmax)\n",
    "#7_TXn: El mínimo mensual de la temperatura máxima, min(Tmax).\n",
    "\n",
    "fig, ax = plt.subplots()\n",
    "rects1 = ax.bar(ind - width, TEMP_MAX, width,\n",
    "                color='Purple')\n",
    "# Add some text for labels, title and custom x-axis tick labels, etc.\n",
    "ax.set_ylabel('Temperatura (°C)')\n",
    "ax.set_title('Temperatura máxima por mes')\n",
    "ax.set_xticks(ind)\n",
    "ax.set_xticklabels(('Ene', 'Feb', 'Mar', 'Abr', 'Jun','Jul','Ago','Sept','Oct','Nov'\n",
    "                   ,'Dic'))\n",
    "ax.legend()\n",
    "\n",
    "def autolabel(rects, xpos='center'):\n",
    "    \"\"\"\n",
    "    Attach a text label above each bar in *rects*, displaying its height.\n",
    "\n",
    "    *xpos* indicates which side to place the text w.r.t. the center of\n",
    "    the bar. It can be one of the following {'center', 'right', 'left'}.\n",
    "    \"\"\"\n",
    "\n",
    "    xpos = xpos.lower()  # normalize the case of the parameter\n",
    "    ha = {'center': 'center', 'right': 'left', 'left': 'right'}\n",
    "    offset = {'center': 0.5, 'right': 0.57, 'left': 0.43}  # x_txt = x + w*off\n",
    "\n",
    "    for rect in rects:\n",
    "        height = rect.get_height()\n",
    "        ax.text(rect.get_x() + rect.get_width()*offset[xpos], 1.01*height,\n",
    "                '{}'.format(height), ha=ha[xpos], va='bottom')\n",
    "\n",
    "\n",
    "autolabel(rects1, \"left\")\n",
    "\n",
    "\n",
    "plt.show()"
   ]
  },
  {
   "cell_type": "code",
   "execution_count": 42,
   "metadata": {},
   "outputs": [
    {
     "name": "stdout",
     "output_type": "stream",
     "text": [
      "MES 1 0.0 mm\n",
      "MES 2 -4.0 mm\n",
      "MES 3 2.0 mm\n",
      "MES 4 5.0 mm\n",
      "MES 5 6.5 mm\n",
      "MES 6 8.0 mm\n",
      "MES 7 9.0 mm\n",
      "MES 8 9.5 mm\n",
      "MES 9 1.3 mm\n",
      "MES 10 6.5 mm\n",
      "MES 11 0.4 mm\n",
      "MES 12 0.0 mm\n"
     ]
    }
   ],
   "source": [
    "#hacer for loop para que segun el mes nos de la suma \n",
    "#Temperaturas MAXIMA por mes \n",
    "for i in range(1,13):\n",
    "    PRECIP_MES= df.loc[df[\"MES\"]==i,\"TMIN\"].min()\n",
    "    print(\"MES\",i,np.round(PRECIP_MES,decimals=1),\"mm\")"
   ]
  },
  {
   "cell_type": "code",
   "execution_count": 43,
   "metadata": {},
   "outputs": [],
   "source": [
    "TEMP_MIN=(0.0,-4.0,2.0,5.0,6.5,8.0,9.0,9.5,1.3,6.5,0.4,0.0)"
   ]
  },
  {
   "cell_type": "code",
   "execution_count": 44,
   "metadata": {},
   "outputs": [],
   "source": [
    "ind = np.arange(len(TEMP_MIN))  # the x locations for the groups\n",
    "width = 0.35  # the width of the bars"
   ]
  },
  {
   "cell_type": "code",
   "execution_count": 90,
   "metadata": {},
   "outputs": [
    {
     "name": "stderr",
     "output_type": "stream",
     "text": [
      "No handles with labels found to put in legend.\n"
     ]
    },
    {
     "data": {
      "image/png": "[encoded data removed]",
      "text/plain": [
       "<Figure size 432x288 with 1 Axes>"
      ]
     },
     "metadata": {
      "needs_background": "light"
     },
     "output_type": "display_data"
    }
   ],
   "source": [
    "#6_TNx. La máxima mensual de la temperatura mínima, max(Tmin).\n",
    "#8_TNn: El mínimo mensual de la temperatura mínima, min(Tmin).\n",
    "\n",
    "fig, ax = plt.subplots()\n",
    "rects1 = ax.bar(ind - width, TEMP_MIN, width,\n",
    "                color='Red')\n",
    "# Add some text for labels, title and custom x-axis tick labels, etc.\n",
    "ax.set_ylabel('Temperatura (°C)')\n",
    "ax.set_title('Temperatura mínima por mes')\n",
    "ax.set_xticks(ind)\n",
    "ax.set_xticklabels(('Ene', 'Feb', 'Mar', 'Abr', 'Jun','Jul','Ago','Sept','Oct','Nov'\n",
    "                   ,'Dic'))\n",
    "ax.legend()\n",
    "\n",
    "def autolabel(rects, xpos='center'):\n",
    "    \"\"\"\n",
    "    Attach a text label above each bar in *rects*, displaying its height.\n",
    "\n",
    "    *xpos* indicates which side to place the text w.r.t. the center of\n",
    "    the bar. It can be one of the following {'center', 'right', 'left'}.\n",
    "    \"\"\"\n",
    "\n",
    "    xpos = xpos.lower()  # normalize the case of the parameter\n",
    "    ha = {'center': 'center', 'right': 'left', 'left': 'right'}\n",
    "    offset = {'center': 0.5, 'right': 0.57, 'left': 0.43}  # x_txt = x + w*off\n",
    "\n",
    "    for rect in rects:\n",
    "        height = rect.get_height()\n",
    "        ax.text(rect.get_x() + rect.get_width()*offset[xpos], 1.01*height,\n",
    "                '{}'.format(height), ha=ha[xpos], va='bottom')\n",
    "\n",
    "\n",
    "autolabel(rects1, \"left\")\n",
    "\n",
    "\n",
    "plt.show()"
   ]
  },
  {
   "cell_type": "code",
   "execution_count": 48,
   "metadata": {},
   "outputs": [],
   "source": [
    "#, label='Precipitación'"
   ]
  },
  {
   "cell_type": "code",
   "execution_count": 79,
   "metadata": {},
   "outputs": [
    {
     "data": {
      "image/png": "[encoded data removed]",
      "text/plain": [
       "<Figure size 432x288 with 1 Axes>"
      ]
     },
     "metadata": {
      "needs_background": "light"
     },
     "output_type": "display_data"
    }
   ],
   "source": [
    "#1_Número de días con heladas por año (FD: Tmin < 0ºC)\n",
    "data1=[]\n",
    "data2=[]\n",
    "for i in range(0, 38):\n",
    "    init=1961\n",
    "    count=init + i #for i in range(0, 38)]\n",
    "    j=df[df.AÑO==(1961+i)].TMIN\n",
    "    ji=len([1 for i in j if i < 0])\n",
    "    data1.append(count)\n",
    "    data2.append(ji)\n",
    "df3=pd.DataFrame({\"AÑO\" : data1,\"TMIN\" : data2})   \n",
    "\n",
    "x = df3.AÑO\n",
    "y=np.arange(len(x))\n",
    "TMIN= df3.TMIN\n",
    " \n",
    "plt.bar(y, TMIN, align='center')\n",
    "plt.xticks(y, x,rotation=45)\n",
    "plt.ylabel('Número de heladas')\n",
    "plt.title(\"Días con heladas Tmin<0\")\n",
    "plt.show()"
   ]
  },
  {
   "cell_type": "code",
   "execution_count": 80,
   "metadata": {},
   "outputs": [
    {
     "data": {
      "image/png": "[encoded data removed]",
      "text/plain": [
       "<Figure size 432x288 with 1 Axes>"
      ]
     },
     "metadata": {
      "needs_background": "light"
     },
     "output_type": "display_data"
    }
   ],
   "source": [
    "#2_Número de días de verano por año (SU: Tmax > 25ºC)\n",
    "data1=[]\n",
    "data2=[]\n",
    "for i in range(0, 38):\n",
    "    init=1961\n",
    "    count=init + i #for i in range(0, 38)]\n",
    "    j=df[df.AÑO==(1961+i)].TMIN\n",
    "    ji=len([1 for i in j if i > 25])\n",
    "    data1.append(count)\n",
    "    data2.append(ji)\n",
    "df3=pd.DataFrame({\"AÑO\" : data1, \"DVer\" : data2})\n",
    "\n",
    "x=df3.AÑO\n",
    "y=np.arange(len(x))\n",
    "DV=df3.DVer\n",
    "\n",
    "plt.bar(y, DV, align='center')\n",
    "plt.xticks(y, x,rotation=45)\n",
    "plt.ylabel('Número de días')\n",
    "plt.title(\"Dias de verano Tmin>25\")\n",
    "plt.show()"
   ]
  },
  {
   "cell_type": "code",
   "execution_count": 82,
   "metadata": {},
   "outputs": [
    {
     "data": {
      "image/png": "[encoded data removed]",
      "text/plain": [
       "<Figure size 432x288 with 1 Axes>"
      ]
     },
     "metadata": {
      "needs_background": "light"
     },
     "output_type": "display_data"
    }
   ],
   "source": [
    "#3_Número de noches tropicales por año (TR: Tmin > 20ºC)\n",
    "data1=[]\n",
    "data2=[]\n",
    "#print(\"Año\",\"   Número de noches tropicales por año (TR: Tmin > 20ºC)\")\n",
    "for i in range(0, 38):\n",
    "    init=1961\n",
    "    count=init + i #for i in range(0, 38)]\n",
    "    j=df[df.AÑO==(1961+i)].TMIN\n",
    "    ji=len([1 for i in j if i > 20])\n",
    "    data1.append(count)\n",
    "    data2.append(ji)\n",
    "df3=pd.DataFrame({\"AÑO\" : data1,\"TROP\" : data2})\n",
    "\n",
    "x=df3.AÑO\n",
    "y=np.arange(len(x))\n",
    "TP=df3.TROP\n",
    "\n",
    "plt.bar(y, TP, align='center')\n",
    "plt.xticks(y, x,rotation=45)\n",
    "plt.ylabel('Número de días')\n",
    "plt.title(\"Dias de noches tropicales Tmin>20\")\n",
    "plt.show()"
   ]
  },
  {
   "cell_type": "code",
   "execution_count": 83,
   "metadata": {},
   "outputs": [
    {
     "data": {
      "image/png": "[encoded data removed]",
      "text/plain": [
       "<Figure size 432x288 with 1 Axes>"
      ]
     },
     "metadata": {
      "needs_background": "light"
     },
     "output_type": "display_data"
    }
   ],
   "source": [
    "#4_Longitud de la estación de cultivo por año\n",
    "#print(\"Año\",\"   Longitud de la estación de cultivo por año\")\n",
    "data1=[]\n",
    "data2=[]\n",
    "for i in range(0, 38):\n",
    "    init=1961\n",
    "    count=init + i #for i in range(0, 37)]\n",
    "    j=(df[df.AÑO==(1961+i)].TMIN + df[df.AÑO==(1961+i)].TMIN)/2\n",
    "    ji=len([1 for i in j if i < 5])\n",
    "    gi=len([1 for i in j if i > 5])\n",
    "    ci=ji+gi\n",
    "    j=g=0\n",
    "    data1.append(count)\n",
    "    data2.append(ci)\n",
    "df3=pd.DataFrame({\"AÑO\" : data1, \"CULT\" : data2})\n",
    "\n",
    "x=df3.AÑO\n",
    "y=np.arange(len(x))\n",
    "C=df3.CULT\n",
    "\n",
    "plt.bar(y, C, align='center')\n",
    "plt.xticks(y, x,rotation=45)\n",
    "plt.ylabel('Número de días')\n",
    "plt.title(\"Longitud de la estación de cultivo por año\")\n",
    "plt.show()"
   ]
  },
  {
   "cell_type": "code",
   "execution_count": 111,
   "metadata": {},
   "outputs": [
    {
     "data": {
      "image/png": "[encoded data removed]",
      "text/plain": [
       "<Figure size 432x288 with 1 Axes>"
      ]
     },
     "metadata": {
      "needs_background": "light"
     },
     "output_type": "display_data"
    }
   ],
   "source": [
    "#9_DTR: El promedio mensual de la diferencia de temperaturas (Tmax-Tmin). \n",
    "#print(\"Mes\",\"Promedio mensual de la diferencia de temperaturas (Tmax-Tmin)\")\n",
    "data1=[]\n",
    "data2=[]\n",
    "df2=pd.DataFrame({ 'MES' : df.MES, \"DIF\" : df.TMAX - df.TMIN})\n",
    "for i in range(0, 12):\n",
    "    init=1\n",
    "    count=init + i\n",
    "    j=df2[df2.MES==(init+i)].DIF.mean()\n",
    "    data1.append(count)\n",
    "    data2.append(j)\n",
    "df3=pd.DataFrame({\"MES\" : data1, \"PMES\" : data2})\n",
    "\n",
    "x=df3.MES\n",
    "y=np.arange(len(x))\n",
    "p=df3.PMES\n",
    "\n",
    "plt.bar(y, p, align='center')\n",
    "plt.xticks(y, x)\n",
    "plt.ylabel('Temperatura °C')\n",
    "plt.title(\"Promedio mensual de la diferencia de temperaturas (Tmax-Tmin)\")\n",
    "plt.show()"
   ]
  },
  {
   "cell_type": "code",
   "execution_count": 85,
   "metadata": {},
   "outputs": [
    {
     "data": {
      "image/png": "[encoded data removed]",
      "text/plain": [
       "<Figure size 432x288 with 1 Axes>"
      ]
     },
     "metadata": {
      "needs_background": "light"
     },
     "output_type": "display_data"
    }
   ],
   "source": [
    "#10_Rx1day: Precipitación diaria máxima mensual en 1 día. \n",
    "#print(\"Mes\",\"Precipitación máxima mensual\")\n",
    "data1=[]\n",
    "data2=[]\n",
    "for i in range(0, 12):\n",
    "    init=1\n",
    "    count=init + i\n",
    "    j=df[df.MES==(init+i)].PRECIP.max()\n",
    "    data1.append(count)\n",
    "    data2.append(j)\n",
    "df3=pd.DataFrame({\"MES\" : data1, \"PRECIP\" : data2})\n",
    "\n",
    "x=df3.MES\n",
    "y=np.arange(len(x))\n",
    "p=df3.PRECIP\n",
    "\n",
    "plt.bar(y, p, align='center')\n",
    "plt.xticks(y, x)\n",
    "plt.ylabel('Precipitación mm')\n",
    "plt.title(\"Precipitación Máxima Mensual\")\n",
    "plt.show()"
   ]
  },
  {
   "cell_type": "code",
   "execution_count": 86,
   "metadata": {},
   "outputs": [
    {
     "data": {
      "image/png": "[encoded data removed]",
      "text/plain": [
       "<Figure size 432x288 with 1 Axes>"
      ]
     },
     "metadata": {
      "needs_background": "light"
     },
     "output_type": "display_data"
    }
   ],
   "source": [
    "#12_SDII: Número de días en un año con precipitación mayor igual a 1mm\n",
    "#print(\"Año\",\"   Número de días en un año con precipitación mayor igual a 1mm\")\n",
    "data1=[]\n",
    "data2=[]\n",
    "for i in range(0, 38):\n",
    "    init=1961\n",
    "    count=init + i#for i in range(0, 37)]\n",
    "    j=df[df.AÑO==(1961+i)].PRECIP\n",
    "    ji=len([1 for i in j if i >= 1])\n",
    "    data1.append(count)\n",
    "    data2.append(ji)\n",
    "df3=pd.DataFrame({\"AÑO\" : data1, \"Precip\" : data2})\n",
    "\n",
    "x=df3.AÑO\n",
    "y=np.arange(len(x))\n",
    "p=df3.Precip\n",
    "\n",
    "plt.bar(y, p, align='center')\n",
    "plt.xticks(y, x, rotation=45)\n",
    "plt.ylabel('Precipitación')\n",
    "plt.title(\"Número de días en un año con precipitación ≥ a 1mm\")\n",
    "plt.show()"
   ]
  },
  {
   "cell_type": "code",
   "execution_count": 87,
   "metadata": {},
   "outputs": [
    {
     "data": {
      "image/png": "[encoded data removed]",
      "text/plain": [
       "<Figure size 432x288 with 1 Axes>"
      ]
     },
     "metadata": {
      "needs_background": "light"
     },
     "output_type": "display_data"
    }
   ],
   "source": [
    "#13_R10mm: Número de días en el año con precipitación diaria mayor igual a 10 mm.  \n",
    "#print(\"Año\",\"   Número de días en el año con precipitación diaria mayor igual a 10 mm.\")\n",
    "data1=[]\n",
    "data2=[]\n",
    "for i in range(0, 38):\n",
    "    init=1961\n",
    "    count=init + i#for i in range(0, 37)]\n",
    "    j=df[df.AÑO==(1961+i)].PRECIP\n",
    "    ji=len([1 for i in j if i >= 10])\n",
    "    data1.append(count)\n",
    "    data2.append(ji)\n",
    "df3=pd.DataFrame({\"AÑO\" : data1, \"Num\" : data2})\n",
    "df3\n",
    "\n",
    "x=df3.AÑO\n",
    "y=np.arange(len(x))\n",
    "p=df3.Num\n",
    "\n",
    "plt.bar(y, p, align='center')\n",
    "plt.xticks(y, x, rotation=45)\n",
    "plt.ylabel('Precipitación mm')\n",
    "plt.title(\"Número de días en el año con precipitación diaria ≥ a 10 mm\")\n",
    "plt.show()"
   ]
  },
  {
   "cell_type": "code",
   "execution_count": 88,
   "metadata": {},
   "outputs": [
    {
     "data": {
      "image/png": "[encoded data removed]",
      "text/plain": [
       "<Figure size 432x288 with 1 Axes>"
      ]
     },
     "metadata": {
      "needs_background": "light"
     },
     "output_type": "display_data"
    }
   ],
   "source": [
    "#14_R10mm: Número de días en el año con precipitación diaria mayor igual a 20 mm.  \n",
    "#print(\"Año\",\"   Número de días en el año con precipitación diaria mayor igual a 20 mm.\")\n",
    "data1=[]\n",
    "data2=[]\n",
    "for i in range(0, 38):\n",
    "    init=1961\n",
    "    count=init + i#for i in range(0, 37)]\n",
    "    j=df[df.AÑO==(1961+i)].PRECIP\n",
    "    ji=len([1 for i in j if i >= 20])\n",
    "    data1.append(count)\n",
    "    data2.append(ji)\n",
    "df3=pd.DataFrame({\"AÑO\" : data1, \"Num\" : data2})\n",
    "df3\n",
    "\n",
    "x=df3.AÑO\n",
    "y=np.arange(len(x))\n",
    "p=df3.Num\n",
    "\n",
    "plt.bar(y, p, align='center')\n",
    "plt.xticks(y, x, rotation=45)\n",
    "plt.ylabel('Precipitación mm')\n",
    "plt.title(\"Número de días en el año con precipitación diaria ≥ a 20 mm\")\n",
    "plt.show()"
   ]
  },
  {
   "cell_type": "code",
   "execution_count": 108,
   "metadata": {},
   "outputs": [],
   "source": [
    "#10_Rx1day: Precipitación diaria máxima mensual en 1 día. \n",
    "#11_Rx5 day: Precipitación diaria máxima mensual en 5 días consecutivos.\n",
    "#print(\"Mes\",\"Precipitación máxima mensual\")\n",
    "#data1=[]\n",
    "#data2=[]\n",
    "#data3=[]\n",
    "#for i in range(0, 12):\n",
    "#    init=1\n",
    "#    count=init + i\n",
    "#    j=df[df.MES==(init+i)].PRECIP.max()\n",
    "#    for k in range(0,5):\n",
    "#    init2=1\n",
    "#    count2=init2+k\n",
    "#    l=df[df.DIA==(init2+k)].PRECIP.max()\n",
    "#    data1.append(count)\n",
    "#    data2.append(j)\n",
    "#    data3.append(l)\n",
    "#df3=pd.DataFrame({\"MES\" : data1, \"PRECIP\" : data2})\n",
    "\n",
    "#x=df3.MES\n",
    "#y=np.arange(len(x))\n",
    "#p=df3.PRECIP\n",
    "\n",
    "#plt.bar(y, p, align='center')\n",
    "#plt.xticks(y, x)\n",
    "#plt.ylabel('Precipitación mm')\n",
    "#plt.title(\"Precipitación Máxima Mensual\")\n",
    "#plt.show()"
   ]
  },
  {
   "cell_type": "code",
   "execution_count": null,
   "metadata": {},
   "outputs": [],
   "source": []
  }
 ],
 "metadata": {
  "kernelspec": {
   "display_name": "Python 3",
   "language": "python",
   "name": "python3"
  },
  "language_info": {
   "codemirror_mode": {
    "name": "ipython",
    "version": 3
   },
   "file_extension": ".py",
   "mimetype": "text/x-python",
   "name": "python",
   "nbconvert_exporter": "python",
   "pygments_lexer": "ipython3",
   "version": "3.7.1"
  }
 },
 "nbformat": 4,
 "nbformat_minor": 2
}
